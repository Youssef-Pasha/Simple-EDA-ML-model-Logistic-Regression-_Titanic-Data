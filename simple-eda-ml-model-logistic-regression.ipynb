{
 "cells": [
  {
   "cell_type": "markdown",
   "id": "a87f4347",
   "metadata": {
    "papermill": {
     "duration": 0.050136,
     "end_time": "2022-04-29T22:27:41.240524",
     "exception": false,
     "start_time": "2022-04-29T22:27:41.190388",
     "status": "completed"
    },
    "tags": []
   },
   "source": [
    "# **Import Basic Libraries**"
   ]
  },
  {
   "cell_type": "code",
   "execution_count": 1,
   "id": "16a15580",
   "metadata": {
    "execution": {
     "iopub.execute_input": "2022-04-29T22:27:41.340129Z",
     "iopub.status.busy": "2022-04-29T22:27:41.339529Z",
     "iopub.status.idle": "2022-04-29T22:27:42.850602Z",
     "shell.execute_reply": "2022-04-29T22:27:42.849852Z"
    },
    "papermill": {
     "duration": 1.5624,
     "end_time": "2022-04-29T22:27:42.852813",
     "exception": false,
     "start_time": "2022-04-29T22:27:41.290413",
     "status": "completed"
    },
    "tags": []
   },
   "outputs": [],
   "source": [
    "import pandas as pd\n",
    "import numpy as np\n",
    "\n",
    "import matplotlib.pyplot as plt\n",
    "%matplotlib inline\n",
    "import seaborn as sns\n",
    "\n",
    "from sklearn.model_selection import train_test_split\n",
    "from sklearn.linear_model import LogisticRegression\n",
    "from sklearn.metrics import confusion_matrix, classification_report\n",
    "\n",
    "%config Completer.use_jedi = False"
   ]
  },
  {
   "cell_type": "markdown",
   "id": "a7a5f474",
   "metadata": {
    "papermill": {
     "duration": 0.047277,
     "end_time": "2022-04-29T22:27:42.949325",
     "exception": false,
     "start_time": "2022-04-29T22:27:42.902048",
     "status": "completed"
    },
    "tags": []
   },
   "source": [
    "# **Data Preprocessing**"
   ]
  },
  {
   "cell_type": "markdown",
   "id": "43652ca8",
   "metadata": {
    "papermill": {
     "duration": 0.045858,
     "end_time": "2022-04-29T22:27:43.042748",
     "exception": false,
     "start_time": "2022-04-29T22:27:42.996890",
     "status": "completed"
    },
    "tags": []
   },
   "source": [
    "## Load Data"
   ]
  },
  {
   "cell_type": "code",
   "execution_count": 2,
   "id": "b4570dfe",
   "metadata": {
    "execution": {
     "iopub.execute_input": "2022-04-29T22:27:43.142318Z",
     "iopub.status.busy": "2022-04-29T22:27:43.141445Z",
     "iopub.status.idle": "2022-04-29T22:27:43.175225Z",
     "shell.execute_reply": "2022-04-29T22:27:43.174224Z"
    },
    "papermill": {
     "duration": 0.085711,
     "end_time": "2022-04-29T22:27:43.177089",
     "exception": false,
     "start_time": "2022-04-29T22:27:43.091378",
     "status": "completed"
    },
    "tags": []
   },
   "outputs": [],
   "source": [
    "# read csv file\n",
    "df = pd.read_csv('../input/titanic/train.csv')\n",
    "test_df = pd.read_csv('../input/titanic/test.csv')\n",
    "\n",
    "orig_df = df.copy()"
   ]
  },
  {
   "cell_type": "markdown",
   "id": "fd5f4048",
   "metadata": {
    "papermill": {
     "duration": 0.04827,
     "end_time": "2022-04-29T22:27:43.273183",
     "exception": false,
     "start_time": "2022-04-29T22:27:43.224913",
     "status": "completed"
    },
    "tags": []
   },
   "source": [
    "## Overview"
   ]
  },
  {
   "cell_type": "code",
   "execution_count": 3,
   "id": "74ca2686",
   "metadata": {
    "execution": {
     "iopub.execute_input": "2022-04-29T22:27:43.373332Z",
     "iopub.status.busy": "2022-04-29T22:27:43.372763Z",
     "iopub.status.idle": "2022-04-29T22:27:43.399678Z",
     "shell.execute_reply": "2022-04-29T22:27:43.399075Z"
    },
    "papermill": {
     "duration": 0.079771,
     "end_time": "2022-04-29T22:27:43.401481",
     "exception": false,
     "start_time": "2022-04-29T22:27:43.321710",
     "status": "completed"
    },
    "tags": []
   },
   "outputs": [
    {
     "data": {
      "text/html": [
       "<div>\n",
       "<style scoped>\n",
       "    .dataframe tbody tr th:only-of-type {\n",
       "        vertical-align: middle;\n",
       "    }\n",
       "\n",
       "    .dataframe tbody tr th {\n",
       "        vertical-align: top;\n",
       "    }\n",
       "\n",
       "    .dataframe thead th {\n",
       "        text-align: right;\n",
       "    }\n",
       "</style>\n",
       "<table border=\"1\" class=\"dataframe\">\n",
       "  <thead>\n",
       "    <tr style=\"text-align: right;\">\n",
       "      <th></th>\n",
       "      <th>PassengerId</th>\n",
       "      <th>Survived</th>\n",
       "      <th>Pclass</th>\n",
       "      <th>Name</th>\n",
       "      <th>Sex</th>\n",
       "      <th>Age</th>\n",
       "      <th>SibSp</th>\n",
       "      <th>Parch</th>\n",
       "      <th>Ticket</th>\n",
       "      <th>Fare</th>\n",
       "      <th>Cabin</th>\n",
       "      <th>Embarked</th>\n",
       "    </tr>\n",
       "  </thead>\n",
       "  <tbody>\n",
       "    <tr>\n",
       "      <th>0</th>\n",
       "      <td>1</td>\n",
       "      <td>0</td>\n",
       "      <td>3</td>\n",
       "      <td>Braund, Mr. Owen Harris</td>\n",
       "      <td>male</td>\n",
       "      <td>22.0</td>\n",
       "      <td>1</td>\n",
       "      <td>0</td>\n",
       "      <td>A/5 21171</td>\n",
       "      <td>7.2500</td>\n",
       "      <td>NaN</td>\n",
       "      <td>S</td>\n",
       "    </tr>\n",
       "    <tr>\n",
       "      <th>1</th>\n",
       "      <td>2</td>\n",
       "      <td>1</td>\n",
       "      <td>1</td>\n",
       "      <td>Cumings, Mrs. John Bradley (Florence Briggs Th...</td>\n",
       "      <td>female</td>\n",
       "      <td>38.0</td>\n",
       "      <td>1</td>\n",
       "      <td>0</td>\n",
       "      <td>PC 17599</td>\n",
       "      <td>71.2833</td>\n",
       "      <td>C85</td>\n",
       "      <td>C</td>\n",
       "    </tr>\n",
       "    <tr>\n",
       "      <th>2</th>\n",
       "      <td>3</td>\n",
       "      <td>1</td>\n",
       "      <td>3</td>\n",
       "      <td>Heikkinen, Miss. Laina</td>\n",
       "      <td>female</td>\n",
       "      <td>26.0</td>\n",
       "      <td>0</td>\n",
       "      <td>0</td>\n",
       "      <td>STON/O2. 3101282</td>\n",
       "      <td>7.9250</td>\n",
       "      <td>NaN</td>\n",
       "      <td>S</td>\n",
       "    </tr>\n",
       "    <tr>\n",
       "      <th>3</th>\n",
       "      <td>4</td>\n",
       "      <td>1</td>\n",
       "      <td>1</td>\n",
       "      <td>Futrelle, Mrs. Jacques Heath (Lily May Peel)</td>\n",
       "      <td>female</td>\n",
       "      <td>35.0</td>\n",
       "      <td>1</td>\n",
       "      <td>0</td>\n",
       "      <td>113803</td>\n",
       "      <td>53.1000</td>\n",
       "      <td>C123</td>\n",
       "      <td>S</td>\n",
       "    </tr>\n",
       "    <tr>\n",
       "      <th>4</th>\n",
       "      <td>5</td>\n",
       "      <td>0</td>\n",
       "      <td>3</td>\n",
       "      <td>Allen, Mr. William Henry</td>\n",
       "      <td>male</td>\n",
       "      <td>35.0</td>\n",
       "      <td>0</td>\n",
       "      <td>0</td>\n",
       "      <td>373450</td>\n",
       "      <td>8.0500</td>\n",
       "      <td>NaN</td>\n",
       "      <td>S</td>\n",
       "    </tr>\n",
       "  </tbody>\n",
       "</table>\n",
       "</div>"
      ],
      "text/plain": [
       "   PassengerId  Survived  Pclass  \\\n",
       "0            1         0       3   \n",
       "1            2         1       1   \n",
       "2            3         1       3   \n",
       "3            4         1       1   \n",
       "4            5         0       3   \n",
       "\n",
       "                                                Name     Sex   Age  SibSp  \\\n",
       "0                            Braund, Mr. Owen Harris    male  22.0      1   \n",
       "1  Cumings, Mrs. John Bradley (Florence Briggs Th...  female  38.0      1   \n",
       "2                             Heikkinen, Miss. Laina  female  26.0      0   \n",
       "3       Futrelle, Mrs. Jacques Heath (Lily May Peel)  female  35.0      1   \n",
       "4                           Allen, Mr. William Henry    male  35.0      0   \n",
       "\n",
       "   Parch            Ticket     Fare Cabin Embarked  \n",
       "0      0         A/5 21171   7.2500   NaN        S  \n",
       "1      0          PC 17599  71.2833   C85        C  \n",
       "2      0  STON/O2. 3101282   7.9250   NaN        S  \n",
       "3      0            113803  53.1000  C123        S  \n",
       "4      0            373450   8.0500   NaN        S  "
      ]
     },
     "execution_count": 3,
     "metadata": {},
     "output_type": "execute_result"
    }
   ],
   "source": [
    "# view first 5\n",
    "df.head()"
   ]
  },
  {
   "cell_type": "code",
   "execution_count": 4,
   "id": "4018679f",
   "metadata": {
    "execution": {
     "iopub.execute_input": "2022-04-29T22:27:43.500682Z",
     "iopub.status.busy": "2022-04-29T22:27:43.500432Z",
     "iopub.status.idle": "2022-04-29T22:27:43.524593Z",
     "shell.execute_reply": "2022-04-29T22:27:43.523963Z"
    },
    "papermill": {
     "duration": 0.076139,
     "end_time": "2022-04-29T22:27:43.526798",
     "exception": false,
     "start_time": "2022-04-29T22:27:43.450659",
     "status": "completed"
    },
    "tags": []
   },
   "outputs": [
    {
     "name": "stdout",
     "output_type": "stream",
     "text": [
      "<class 'pandas.core.frame.DataFrame'>\n",
      "RangeIndex: 891 entries, 0 to 890\n",
      "Data columns (total 12 columns):\n",
      " #   Column       Non-Null Count  Dtype  \n",
      "---  ------       --------------  -----  \n",
      " 0   PassengerId  891 non-null    int64  \n",
      " 1   Survived     891 non-null    int64  \n",
      " 2   Pclass       891 non-null    int64  \n",
      " 3   Name         891 non-null    object \n",
      " 4   Sex          891 non-null    object \n",
      " 5   Age          714 non-null    float64\n",
      " 6   SibSp        891 non-null    int64  \n",
      " 7   Parch        891 non-null    int64  \n",
      " 8   Ticket       891 non-null    object \n",
      " 9   Fare         891 non-null    float64\n",
      " 10  Cabin        204 non-null    object \n",
      " 11  Embarked     889 non-null    object \n",
      "dtypes: float64(2), int64(5), object(5)\n",
      "memory usage: 83.7+ KB\n"
     ]
    }
   ],
   "source": [
    "# some info.\n",
    "df.info()"
   ]
  },
  {
   "cell_type": "code",
   "execution_count": 5,
   "id": "e4892f23",
   "metadata": {
    "execution": {
     "iopub.execute_input": "2022-04-29T22:27:43.630793Z",
     "iopub.status.busy": "2022-04-29T22:27:43.630280Z",
     "iopub.status.idle": "2022-04-29T22:27:43.671145Z",
     "shell.execute_reply": "2022-04-29T22:27:43.670254Z"
    },
    "papermill": {
     "duration": 0.094916,
     "end_time": "2022-04-29T22:27:43.673588",
     "exception": false,
     "start_time": "2022-04-29T22:27:43.578672",
     "status": "completed"
    },
    "tags": []
   },
   "outputs": [
    {
     "data": {
      "text/html": [
       "<div>\n",
       "<style scoped>\n",
       "    .dataframe tbody tr th:only-of-type {\n",
       "        vertical-align: middle;\n",
       "    }\n",
       "\n",
       "    .dataframe tbody tr th {\n",
       "        vertical-align: top;\n",
       "    }\n",
       "\n",
       "    .dataframe thead th {\n",
       "        text-align: right;\n",
       "    }\n",
       "</style>\n",
       "<table border=\"1\" class=\"dataframe\">\n",
       "  <thead>\n",
       "    <tr style=\"text-align: right;\">\n",
       "      <th></th>\n",
       "      <th>PassengerId</th>\n",
       "      <th>Survived</th>\n",
       "      <th>Pclass</th>\n",
       "      <th>Age</th>\n",
       "      <th>SibSp</th>\n",
       "      <th>Parch</th>\n",
       "      <th>Fare</th>\n",
       "    </tr>\n",
       "  </thead>\n",
       "  <tbody>\n",
       "    <tr>\n",
       "      <th>count</th>\n",
       "      <td>891.00</td>\n",
       "      <td>891.00</td>\n",
       "      <td>891.00</td>\n",
       "      <td>714.00</td>\n",
       "      <td>891.00</td>\n",
       "      <td>891.00</td>\n",
       "      <td>891.00</td>\n",
       "    </tr>\n",
       "    <tr>\n",
       "      <th>mean</th>\n",
       "      <td>446.00</td>\n",
       "      <td>0.38</td>\n",
       "      <td>2.31</td>\n",
       "      <td>29.70</td>\n",
       "      <td>0.52</td>\n",
       "      <td>0.38</td>\n",
       "      <td>32.20</td>\n",
       "    </tr>\n",
       "    <tr>\n",
       "      <th>std</th>\n",
       "      <td>257.35</td>\n",
       "      <td>0.49</td>\n",
       "      <td>0.84</td>\n",
       "      <td>14.53</td>\n",
       "      <td>1.10</td>\n",
       "      <td>0.81</td>\n",
       "      <td>49.69</td>\n",
       "    </tr>\n",
       "    <tr>\n",
       "      <th>min</th>\n",
       "      <td>1.00</td>\n",
       "      <td>0.00</td>\n",
       "      <td>1.00</td>\n",
       "      <td>0.42</td>\n",
       "      <td>0.00</td>\n",
       "      <td>0.00</td>\n",
       "      <td>0.00</td>\n",
       "    </tr>\n",
       "    <tr>\n",
       "      <th>25%</th>\n",
       "      <td>223.50</td>\n",
       "      <td>0.00</td>\n",
       "      <td>2.00</td>\n",
       "      <td>20.12</td>\n",
       "      <td>0.00</td>\n",
       "      <td>0.00</td>\n",
       "      <td>7.91</td>\n",
       "    </tr>\n",
       "    <tr>\n",
       "      <th>50%</th>\n",
       "      <td>446.00</td>\n",
       "      <td>0.00</td>\n",
       "      <td>3.00</td>\n",
       "      <td>28.00</td>\n",
       "      <td>0.00</td>\n",
       "      <td>0.00</td>\n",
       "      <td>14.45</td>\n",
       "    </tr>\n",
       "    <tr>\n",
       "      <th>75%</th>\n",
       "      <td>668.50</td>\n",
       "      <td>1.00</td>\n",
       "      <td>3.00</td>\n",
       "      <td>38.00</td>\n",
       "      <td>1.00</td>\n",
       "      <td>0.00</td>\n",
       "      <td>31.00</td>\n",
       "    </tr>\n",
       "    <tr>\n",
       "      <th>max</th>\n",
       "      <td>891.00</td>\n",
       "      <td>1.00</td>\n",
       "      <td>3.00</td>\n",
       "      <td>80.00</td>\n",
       "      <td>8.00</td>\n",
       "      <td>6.00</td>\n",
       "      <td>512.33</td>\n",
       "    </tr>\n",
       "  </tbody>\n",
       "</table>\n",
       "</div>"
      ],
      "text/plain": [
       "       PassengerId  Survived  Pclass     Age   SibSp   Parch    Fare\n",
       "count       891.00    891.00  891.00  714.00  891.00  891.00  891.00\n",
       "mean        446.00      0.38    2.31   29.70    0.52    0.38   32.20\n",
       "std         257.35      0.49    0.84   14.53    1.10    0.81   49.69\n",
       "min           1.00      0.00    1.00    0.42    0.00    0.00    0.00\n",
       "25%         223.50      0.00    2.00   20.12    0.00    0.00    7.91\n",
       "50%         446.00      0.00    3.00   28.00    0.00    0.00   14.45\n",
       "75%         668.50      1.00    3.00   38.00    1.00    0.00   31.00\n",
       "max         891.00      1.00    3.00   80.00    8.00    6.00  512.33"
      ]
     },
     "execution_count": 5,
     "metadata": {},
     "output_type": "execute_result"
    }
   ],
   "source": [
    "# some statistical info.\n",
    "df.describe().round(2)"
   ]
  },
  {
   "cell_type": "markdown",
   "id": "77aaf60c",
   "metadata": {
    "papermill": {
     "duration": 0.049985,
     "end_time": "2022-04-29T22:27:43.774282",
     "exception": false,
     "start_time": "2022-04-29T22:27:43.724297",
     "status": "completed"
    },
    "tags": []
   },
   "source": [
    "## Missing Values"
   ]
  },
  {
   "cell_type": "code",
   "execution_count": 6,
   "id": "3c523b5f",
   "metadata": {
    "execution": {
     "iopub.execute_input": "2022-04-29T22:27:43.879503Z",
     "iopub.status.busy": "2022-04-29T22:27:43.879275Z",
     "iopub.status.idle": "2022-04-29T22:27:43.888112Z",
     "shell.execute_reply": "2022-04-29T22:27:43.887397Z"
    },
    "papermill": {
     "duration": 0.062879,
     "end_time": "2022-04-29T22:27:43.889570",
     "exception": false,
     "start_time": "2022-04-29T22:27:43.826691",
     "status": "completed"
    },
    "tags": []
   },
   "outputs": [
    {
     "data": {
      "text/plain": [
       "PassengerId      0\n",
       "Survived         0\n",
       "Pclass           0\n",
       "Name             0\n",
       "Sex              0\n",
       "Age            177\n",
       "SibSp            0\n",
       "Parch            0\n",
       "Ticket           0\n",
       "Fare             0\n",
       "Cabin          687\n",
       "Embarked         2\n",
       "dtype: int64"
      ]
     },
     "execution_count": 6,
     "metadata": {},
     "output_type": "execute_result"
    }
   ],
   "source": [
    "# chek missing\n",
    "df.isnull().sum()"
   ]
  },
  {
   "cell_type": "code",
   "execution_count": 7,
   "id": "35f28f82",
   "metadata": {
    "execution": {
     "iopub.execute_input": "2022-04-29T22:27:43.989018Z",
     "iopub.status.busy": "2022-04-29T22:27:43.988508Z",
     "iopub.status.idle": "2022-04-29T22:27:44.438362Z",
     "shell.execute_reply": "2022-04-29T22:27:44.437203Z"
    },
    "papermill": {
     "duration": 0.501297,
     "end_time": "2022-04-29T22:27:44.440226",
     "exception": false,
     "start_time": "2022-04-29T22:27:43.938929",
     "status": "completed"
    },
    "tags": []
   },
   "outputs": [
    {
     "data": {
      "image/png": "[encoded data removed]",
      "text/plain": [
       "<Figure size 432x288 with 2 Axes>"
      ]
     },
     "metadata": {
      "needs_background": "light"
     },
     "output_type": "display_data"
    }
   ],
   "source": [
    "# visualize missing\n",
    "sns.heatmap(df.isnull());"
   ]
  },
  {
   "cell_type": "code",
   "execution_count": 8,
   "id": "8782b16d",
   "metadata": {
    "execution": {
     "iopub.execute_input": "2022-04-29T22:27:44.540029Z",
     "iopub.status.busy": "2022-04-29T22:27:44.539719Z",
     "iopub.status.idle": "2022-04-29T22:27:44.546146Z",
     "shell.execute_reply": "2022-04-29T22:27:44.545471Z"
    },
    "papermill": {
     "duration": 0.057907,
     "end_time": "2022-04-29T22:27:44.547782",
     "exception": false,
     "start_time": "2022-04-29T22:27:44.489875",
     "status": "completed"
    },
    "tags": []
   },
   "outputs": [],
   "source": [
    "# fill NaN in Age by age mean\n",
    "df.Age.fillna(df.Age.mean(), inplace = True)\n",
    "test_df.Age.fillna(df.Age.mean(), inplace = True)"
   ]
  },
  {
   "cell_type": "code",
   "execution_count": 9,
   "id": "40d95914",
   "metadata": {
    "execution": {
     "iopub.execute_input": "2022-04-29T22:27:44.651235Z",
     "iopub.status.busy": "2022-04-29T22:27:44.650732Z",
     "iopub.status.idle": "2022-04-29T22:27:44.658048Z",
     "shell.execute_reply": "2022-04-29T22:27:44.657000Z"
    },
    "papermill": {
     "duration": 0.060997,
     "end_time": "2022-04-29T22:27:44.659793",
     "exception": false,
     "start_time": "2022-04-29T22:27:44.598796",
     "status": "completed"
    },
    "tags": []
   },
   "outputs": [
    {
     "data": {
      "text/plain": [
       "0"
      ]
     },
     "execution_count": 9,
     "metadata": {},
     "output_type": "execute_result"
    }
   ],
   "source": [
    "# check again\n",
    "df.Age.isnull().sum()"
   ]
  },
  {
   "cell_type": "markdown",
   "id": "cee557b4",
   "metadata": {
    "papermill": {
     "duration": 0.050046,
     "end_time": "2022-04-29T22:27:44.761944",
     "exception": false,
     "start_time": "2022-04-29T22:27:44.711898",
     "status": "completed"
    },
    "tags": []
   },
   "source": [
    "## Duplicate Values"
   ]
  },
  {
   "cell_type": "code",
   "execution_count": 10,
   "id": "6e6ba183",
   "metadata": {
    "execution": {
     "iopub.execute_input": "2022-04-29T22:27:44.868449Z",
     "iopub.status.busy": "2022-04-29T22:27:44.867784Z",
     "iopub.status.idle": "2022-04-29T22:27:44.878468Z",
     "shell.execute_reply": "2022-04-29T22:27:44.877599Z"
    },
    "papermill": {
     "duration": 0.067405,
     "end_time": "2022-04-29T22:27:44.880875",
     "exception": false,
     "start_time": "2022-04-29T22:27:44.813470",
     "status": "completed"
    },
    "tags": []
   },
   "outputs": [
    {
     "data": {
      "text/plain": [
       "False"
      ]
     },
     "execution_count": 10,
     "metadata": {},
     "output_type": "execute_result"
    }
   ],
   "source": [
    "# no duplicate values\n",
    "df.duplicated().any()"
   ]
  },
  {
   "cell_type": "markdown",
   "id": "8cd6c57a",
   "metadata": {
    "papermill": {
     "duration": 0.05059,
     "end_time": "2022-04-29T22:27:44.982694",
     "exception": false,
     "start_time": "2022-04-29T22:27:44.932104",
     "status": "completed"
    },
    "tags": []
   },
   "source": [
    "## Drop Unnecessary Column"
   ]
  },
  {
   "cell_type": "code",
   "execution_count": 11,
   "id": "745bf40c",
   "metadata": {
    "execution": {
     "iopub.execute_input": "2022-04-29T22:27:45.084950Z",
     "iopub.status.busy": "2022-04-29T22:27:45.084075Z",
     "iopub.status.idle": "2022-04-29T22:27:45.091871Z",
     "shell.execute_reply": "2022-04-29T22:27:45.091048Z"
    },
    "papermill": {
     "duration": 0.06154,
     "end_time": "2022-04-29T22:27:45.093846",
     "exception": false,
     "start_time": "2022-04-29T22:27:45.032306",
     "status": "completed"
    },
    "tags": []
   },
   "outputs": [],
   "source": [
    "df.drop(['PassengerId','Cabin','Name','Ticket'], axis=1,  inplace=True)\n",
    "\n",
    "test_df_passenger_id = test_df.PassengerId\n",
    "test_df.drop(['PassengerId','Cabin','Name','Ticket'], axis=1,  inplace=True)"
   ]
  },
  {
   "cell_type": "markdown",
   "id": "7d864154",
   "metadata": {
    "papermill": {
     "duration": 0.052298,
     "end_time": "2022-04-29T22:27:45.198625",
     "exception": false,
     "start_time": "2022-04-29T22:27:45.146327",
     "status": "completed"
    },
    "tags": []
   },
   "source": [
    "## Converting Categorical"
   ]
  },
  {
   "cell_type": "code",
   "execution_count": 12,
   "id": "9f55eab7",
   "metadata": {
    "execution": {
     "iopub.execute_input": "2022-04-29T22:27:45.304262Z",
     "iopub.status.busy": "2022-04-29T22:27:45.303843Z",
     "iopub.status.idle": "2022-04-29T22:27:45.313671Z",
     "shell.execute_reply": "2022-04-29T22:27:45.312761Z"
    },
    "papermill": {
     "duration": 0.065271,
     "end_time": "2022-04-29T22:27:45.315929",
     "exception": false,
     "start_time": "2022-04-29T22:27:45.250658",
     "status": "completed"
    },
    "tags": []
   },
   "outputs": [],
   "source": [
    "# Change to dummy variable columns and added to df.\n",
    "\n",
    "# convert Sex column\n",
    "sex_dummies = pd.get_dummies(df.Sex, drop_first=True)\n",
    "sex_dummies2 = pd.get_dummies(test_df.Sex, drop_first=True)\n",
    "# convert Embarked column\n",
    "emb_dummies = pd.get_dummies(df.Embarked)\n",
    "emb_dummies2 = pd.get_dummies(test_df.Embarked)"
   ]
  },
  {
   "cell_type": "code",
   "execution_count": 13,
   "id": "b0f24527",
   "metadata": {
    "execution": {
     "iopub.execute_input": "2022-04-29T22:27:45.424132Z",
     "iopub.status.busy": "2022-04-29T22:27:45.423739Z",
     "iopub.status.idle": "2022-04-29T22:27:45.434219Z",
     "shell.execute_reply": "2022-04-29T22:27:45.433656Z"
    },
    "papermill": {
     "duration": 0.065138,
     "end_time": "2022-04-29T22:27:45.435784",
     "exception": false,
     "start_time": "2022-04-29T22:27:45.370646",
     "status": "completed"
    },
    "tags": []
   },
   "outputs": [],
   "source": [
    "# join our dummies to our dataframe\n",
    "df = df.join([sex_dummies, emb_dummies])\n",
    "test_df = test_df.join([sex_dummies, emb_dummies])"
   ]
  },
  {
   "cell_type": "code",
   "execution_count": 14,
   "id": "ec06682c",
   "metadata": {
    "execution": {
     "iopub.execute_input": "2022-04-29T22:27:45.541017Z",
     "iopub.status.busy": "2022-04-29T22:27:45.540628Z",
     "iopub.status.idle": "2022-04-29T22:27:45.546198Z",
     "shell.execute_reply": "2022-04-29T22:27:45.545687Z"
    },
    "papermill": {
     "duration": 0.060476,
     "end_time": "2022-04-29T22:27:45.548148",
     "exception": false,
     "start_time": "2022-04-29T22:27:45.487672",
     "status": "completed"
    },
    "tags": []
   },
   "outputs": [],
   "source": [
    "# drop original column\n",
    "df.drop(['Sex','Embarked'], axis=1, inplace=True)\n",
    "test_df.drop(['Sex','Embarked'], axis=1, inplace=True)"
   ]
  },
  {
   "cell_type": "code",
   "execution_count": 15,
   "id": "74997b73",
   "metadata": {
    "execution": {
     "iopub.execute_input": "2022-04-29T22:27:45.652352Z",
     "iopub.status.busy": "2022-04-29T22:27:45.651940Z",
     "iopub.status.idle": "2022-04-29T22:27:45.657017Z",
     "shell.execute_reply": "2022-04-29T22:27:45.656550Z"
    },
    "papermill": {
     "duration": 0.058418,
     "end_time": "2022-04-29T22:27:45.658940",
     "exception": false,
     "start_time": "2022-04-29T22:27:45.600522",
     "status": "completed"
    },
    "tags": []
   },
   "outputs": [],
   "source": [
    "# rename new column\n",
    "# 1='Male', 0='Female'\n",
    "df.rename(columns={'male':'Gender','C':'Embarked_C','Q':'Embarked_Q','S':'Embarked_S'}, inplace=True)\n",
    "test_df.rename(columns={'male':'Gender','C':'Embarked_C','Q':'Embarked_Q','S':'Embarked_S'}, inplace=True)"
   ]
  },
  {
   "cell_type": "markdown",
   "id": "9ebb486f",
   "metadata": {
    "papermill": {
     "duration": 0.04874,
     "end_time": "2022-04-29T22:27:45.757099",
     "exception": false,
     "start_time": "2022-04-29T22:27:45.708359",
     "status": "completed"
    },
    "tags": []
   },
   "source": [
    "### Data After Cleaning"
   ]
  },
  {
   "cell_type": "code",
   "execution_count": 16,
   "id": "fcec3b81",
   "metadata": {
    "execution": {
     "iopub.execute_input": "2022-04-29T22:27:45.860155Z",
     "iopub.status.busy": "2022-04-29T22:27:45.859853Z",
     "iopub.status.idle": "2022-04-29T22:27:45.877563Z",
     "shell.execute_reply": "2022-04-29T22:27:45.876781Z"
    },
    "papermill": {
     "duration": 0.073607,
     "end_time": "2022-04-29T22:27:45.879507",
     "exception": false,
     "start_time": "2022-04-29T22:27:45.805900",
     "status": "completed"
    },
    "tags": []
   },
   "outputs": [
    {
     "data": {
      "text/html": [
       "<div>\n",
       "<style scoped>\n",
       "    .dataframe tbody tr th:only-of-type {\n",
       "        vertical-align: middle;\n",
       "    }\n",
       "\n",
       "    .dataframe tbody tr th {\n",
       "        vertical-align: top;\n",
       "    }\n",
       "\n",
       "    .dataframe thead th {\n",
       "        text-align: right;\n",
       "    }\n",
       "</style>\n",
       "<table border=\"1\" class=\"dataframe\">\n",
       "  <thead>\n",
       "    <tr style=\"text-align: right;\">\n",
       "      <th></th>\n",
       "      <th>Survived</th>\n",
       "      <th>Pclass</th>\n",
       "      <th>Age</th>\n",
       "      <th>SibSp</th>\n",
       "      <th>Parch</th>\n",
       "      <th>Fare</th>\n",
       "      <th>Gender</th>\n",
       "      <th>Embarked_C</th>\n",
       "      <th>Embarked_Q</th>\n",
       "      <th>Embarked_S</th>\n",
       "    </tr>\n",
       "  </thead>\n",
       "  <tbody>\n",
       "    <tr>\n",
       "      <th>208</th>\n",
       "      <td>1</td>\n",
       "      <td>3</td>\n",
       "      <td>16.0</td>\n",
       "      <td>0</td>\n",
       "      <td>0</td>\n",
       "      <td>7.7500</td>\n",
       "      <td>0</td>\n",
       "      <td>0</td>\n",
       "      <td>1</td>\n",
       "      <td>0</td>\n",
       "    </tr>\n",
       "    <tr>\n",
       "      <th>11</th>\n",
       "      <td>1</td>\n",
       "      <td>1</td>\n",
       "      <td>58.0</td>\n",
       "      <td>0</td>\n",
       "      <td>0</td>\n",
       "      <td>26.5500</td>\n",
       "      <td>0</td>\n",
       "      <td>0</td>\n",
       "      <td>0</td>\n",
       "      <td>1</td>\n",
       "    </tr>\n",
       "    <tr>\n",
       "      <th>6</th>\n",
       "      <td>0</td>\n",
       "      <td>1</td>\n",
       "      <td>54.0</td>\n",
       "      <td>0</td>\n",
       "      <td>0</td>\n",
       "      <td>51.8625</td>\n",
       "      <td>1</td>\n",
       "      <td>0</td>\n",
       "      <td>0</td>\n",
       "      <td>1</td>\n",
       "    </tr>\n",
       "    <tr>\n",
       "      <th>395</th>\n",
       "      <td>0</td>\n",
       "      <td>3</td>\n",
       "      <td>22.0</td>\n",
       "      <td>0</td>\n",
       "      <td>0</td>\n",
       "      <td>7.7958</td>\n",
       "      <td>1</td>\n",
       "      <td>0</td>\n",
       "      <td>0</td>\n",
       "      <td>1</td>\n",
       "    </tr>\n",
       "    <tr>\n",
       "      <th>37</th>\n",
       "      <td>0</td>\n",
       "      <td>3</td>\n",
       "      <td>21.0</td>\n",
       "      <td>0</td>\n",
       "      <td>0</td>\n",
       "      <td>8.0500</td>\n",
       "      <td>1</td>\n",
       "      <td>0</td>\n",
       "      <td>0</td>\n",
       "      <td>1</td>\n",
       "    </tr>\n",
       "  </tbody>\n",
       "</table>\n",
       "</div>"
      ],
      "text/plain": [
       "     Survived  Pclass   Age  SibSp  Parch     Fare  Gender  Embarked_C  \\\n",
       "208         1       3  16.0      0      0   7.7500       0           0   \n",
       "11          1       1  58.0      0      0  26.5500       0           0   \n",
       "6           0       1  54.0      0      0  51.8625       1           0   \n",
       "395         0       3  22.0      0      0   7.7958       1           0   \n",
       "37          0       3  21.0      0      0   8.0500       1           0   \n",
       "\n",
       "     Embarked_Q  Embarked_S  \n",
       "208           1           0  \n",
       "11            0           1  \n",
       "6             0           1  \n",
       "395           0           1  \n",
       "37            0           1  "
      ]
     },
     "execution_count": 16,
     "metadata": {},
     "output_type": "execute_result"
    }
   ],
   "source": [
    "# data is full numerical\n",
    "df.sample(5)"
   ]
  },
  {
   "cell_type": "markdown",
   "id": "07a18dd4",
   "metadata": {
    "papermill": {
     "duration": 0.077923,
     "end_time": "2022-04-29T22:27:46.035668",
     "exception": false,
     "start_time": "2022-04-29T22:27:45.957745",
     "status": "completed"
    },
    "tags": []
   },
   "source": [
    "# **Exploratory Data Analysis**"
   ]
  },
  {
   "cell_type": "markdown",
   "id": "30c9caca",
   "metadata": {
    "papermill": {
     "duration": 0.077431,
     "end_time": "2022-04-29T22:27:46.190477",
     "exception": false,
     "start_time": "2022-04-29T22:27:46.113046",
     "status": "completed"
    },
    "tags": []
   },
   "source": [
    "### Correlations between columns"
   ]
  },
  {
   "cell_type": "code",
   "execution_count": 17,
   "id": "f23e549e",
   "metadata": {
    "execution": {
     "iopub.execute_input": "2022-04-29T22:27:46.350473Z",
     "iopub.status.busy": "2022-04-29T22:27:46.349872Z",
     "iopub.status.idle": "2022-04-29T22:27:47.041677Z",
     "shell.execute_reply": "2022-04-29T22:27:47.040479Z"
    },
    "papermill": {
     "duration": 0.775124,
     "end_time": "2022-04-29T22:27:47.044015",
     "exception": false,
     "start_time": "2022-04-29T22:27:46.268891",
     "status": "completed"
    },
    "tags": []
   },
   "outputs": [
    {
     "data": {
      "image/png": "[encoded data removed]",
      "text/plain": [
       "<Figure size 960x800 with 2 Axes>"
      ]
     },
     "metadata": {
      "needs_background": "light"
     },
     "output_type": "display_data"
    }
   ],
   "source": [
    "# correlations\n",
    "plt.figure(figsize=(12,10), dpi= 80)\n",
    "sns.heatmap(df.corr(), xticklabels=df.corr().columns, yticklabels=df.corr().columns, cmap='RdYlGn', center=0, annot=True)\n",
    "\n",
    "plt.title('Correlogram', fontsize=22)\n",
    "plt.xticks(fontsize=12)\n",
    "plt.yticks(fontsize=12)\n",
    "plt.show()\n"
   ]
  },
  {
   "cell_type": "markdown",
   "id": "8b81251f",
   "metadata": {
    "papermill": {
     "duration": 0.078638,
     "end_time": "2022-04-29T22:27:47.204139",
     "exception": false,
     "start_time": "2022-04-29T22:27:47.125501",
     "status": "completed"
    },
    "tags": []
   },
   "source": [
    "### The number of females and males"
   ]
  },
  {
   "cell_type": "code",
   "execution_count": 18,
   "id": "25e34f2a",
   "metadata": {
    "execution": {
     "iopub.execute_input": "2022-04-29T22:27:47.366826Z",
     "iopub.status.busy": "2022-04-29T22:27:47.366558Z",
     "iopub.status.idle": "2022-04-29T22:27:47.375151Z",
     "shell.execute_reply": "2022-04-29T22:27:47.374491Z"
    },
    "papermill": {
     "duration": 0.092638,
     "end_time": "2022-04-29T22:27:47.378407",
     "exception": false,
     "start_time": "2022-04-29T22:27:47.285769",
     "status": "completed"
    },
    "tags": []
   },
   "outputs": [
    {
     "data": {
      "text/plain": [
       "1    577\n",
       "0    314\n",
       "Name: Gender, dtype: int64"
      ]
     },
     "execution_count": 18,
     "metadata": {},
     "output_type": "execute_result"
    }
   ],
   "source": [
    "df.Gender.value_counts()"
   ]
  },
  {
   "cell_type": "code",
   "execution_count": 19,
   "id": "c204f71f",
   "metadata": {
    "execution": {
     "iopub.execute_input": "2022-04-29T22:27:47.542377Z",
     "iopub.status.busy": "2022-04-29T22:27:47.541939Z",
     "iopub.status.idle": "2022-04-29T22:27:47.651983Z",
     "shell.execute_reply": "2022-04-29T22:27:47.651332Z"
    },
    "papermill": {
     "duration": 0.195165,
     "end_time": "2022-04-29T22:27:47.654356",
     "exception": false,
     "start_time": "2022-04-29T22:27:47.459191",
     "status": "completed"
    },
    "tags": []
   },
   "outputs": [
    {
     "data": {
      "image/png": "[encoded data removed]",
      "text/plain": [
       "<Figure size 432x288 with 1 Axes>"
      ]
     },
     "metadata": {
      "needs_background": "light"
     },
     "output_type": "display_data"
    }
   ],
   "source": [
    "width = 0.4\n",
    "left = [width, width+0.7]\n",
    "height = df.Gender.value_counts().unique()\n",
    "tick_label = ['Male','Female']\n",
    "plt.bar(left, height, tick_label = tick_label, width = 0.4, color = ['black', 'brown'])\n",
    "plt.xlabel('Gender')\n",
    "plt.ylabel('Count')\n",
    "plt.title('The number of females and males')\n",
    "plt.show()"
   ]
  },
  {
   "cell_type": "markdown",
   "id": "c257d20f",
   "metadata": {
    "papermill": {
     "duration": 0.083565,
     "end_time": "2022-04-29T22:27:47.826409",
     "exception": false,
     "start_time": "2022-04-29T22:27:47.742844",
     "status": "completed"
    },
    "tags": []
   },
   "source": [
    "### What is the average age?"
   ]
  },
  {
   "cell_type": "code",
   "execution_count": 20,
   "id": "820455ce",
   "metadata": {
    "execution": {
     "iopub.execute_input": "2022-04-29T22:27:47.998758Z",
     "iopub.status.busy": "2022-04-29T22:27:47.998366Z",
     "iopub.status.idle": "2022-04-29T22:27:48.003614Z",
     "shell.execute_reply": "2022-04-29T22:27:48.002845Z"
    },
    "papermill": {
     "duration": 0.093965,
     "end_time": "2022-04-29T22:27:48.006100",
     "exception": false,
     "start_time": "2022-04-29T22:27:47.912135",
     "status": "completed"
    },
    "tags": []
   },
   "outputs": [
    {
     "data": {
      "text/plain": [
       "29.69911764705882"
      ]
     },
     "execution_count": 20,
     "metadata": {},
     "output_type": "execute_result"
    }
   ],
   "source": [
    "df.Age.mean()"
   ]
  },
  {
   "cell_type": "code",
   "execution_count": 21,
   "id": "5f46ff37",
   "metadata": {
    "execution": {
     "iopub.execute_input": "2022-04-29T22:27:48.180415Z",
     "iopub.status.busy": "2022-04-29T22:27:48.180143Z",
     "iopub.status.idle": "2022-04-29T22:27:48.660590Z",
     "shell.execute_reply": "2022-04-29T22:27:48.658821Z"
    },
    "papermill": {
     "duration": 0.570694,
     "end_time": "2022-04-29T22:27:48.662836",
     "exception": false,
     "start_time": "2022-04-29T22:27:48.092142",
     "status": "completed"
    },
    "tags": []
   },
   "outputs": [
    {
     "data": {
      "image/png": "[encoded data removed]",
      "text/plain": [
       "<Figure size 360x360 with 1 Axes>"
      ]
     },
     "metadata": {
      "needs_background": "light"
     },
     "output_type": "display_data"
    }
   ],
   "source": [
    "sns.displot(df, x='Age');\n",
    "# we can also use (df.Age.hist(bins = 40))"
   ]
  },
  {
   "cell_type": "markdown",
   "id": "030becc1",
   "metadata": {
    "papermill": {
     "duration": 0.057732,
     "end_time": "2022-04-29T22:27:48.780247",
     "exception": false,
     "start_time": "2022-04-29T22:27:48.722515",
     "status": "completed"
    },
    "tags": []
   },
   "source": [
    "### What is the average male,female age?"
   ]
  },
  {
   "cell_type": "code",
   "execution_count": 22,
   "id": "7f8edf53",
   "metadata": {
    "execution": {
     "iopub.execute_input": "2022-04-29T22:27:48.903010Z",
     "iopub.status.busy": "2022-04-29T22:27:48.902002Z",
     "iopub.status.idle": "2022-04-29T22:27:48.912674Z",
     "shell.execute_reply": "2022-04-29T22:27:48.911821Z"
    },
    "papermill": {
     "duration": 0.075826,
     "end_time": "2022-04-29T22:27:48.916825",
     "exception": false,
     "start_time": "2022-04-29T22:27:48.840999",
     "status": "completed"
    },
    "tags": []
   },
   "outputs": [
    {
     "name": "stdout",
     "output_type": "stream",
     "text": [
      "Average Female Age:  28.21673004870738\n",
      "Average Male Age:  30.505824243042102\n"
     ]
    }
   ],
   "source": [
    "print('Average Female Age: ', df.groupby('Gender')['Age'].mean()[0])\n",
    "print('Average Male Age: ', df.groupby('Gender')['Age'].mean()[1])"
   ]
  },
  {
   "cell_type": "code",
   "execution_count": 23,
   "id": "c86784a8",
   "metadata": {
    "execution": {
     "iopub.execute_input": "2022-04-29T22:27:49.092530Z",
     "iopub.status.busy": "2022-04-29T22:27:49.092285Z",
     "iopub.status.idle": "2022-04-29T22:27:49.335380Z",
     "shell.execute_reply": "2022-04-29T22:27:49.334478Z"
    },
    "papermill": {
     "duration": 0.332699,
     "end_time": "2022-04-29T22:27:49.337511",
     "exception": false,
     "start_time": "2022-04-29T22:27:49.004812",
     "status": "completed"
    },
    "tags": []
   },
   "outputs": [
    {
     "data": {
      "image/png": "[encoded data removed]",
      "text/plain": [
       "<Figure size 432x288 with 1 Axes>"
      ]
     },
     "metadata": {
      "needs_background": "light"
     },
     "output_type": "display_data"
    }
   ],
   "source": [
    "df.groupby('Gender').Age.plot(kind='kde');"
   ]
  },
  {
   "cell_type": "markdown",
   "id": "b347cb20",
   "metadata": {
    "papermill": {
     "duration": 0.057686,
     "end_time": "2022-04-29T22:27:49.453685",
     "exception": false,
     "start_time": "2022-04-29T22:27:49.395999",
     "status": "completed"
    },
    "tags": []
   },
   "source": [
    "### Number of survivors and Dead"
   ]
  },
  {
   "cell_type": "code",
   "execution_count": 24,
   "id": "0b7f3265",
   "metadata": {
    "execution": {
     "iopub.execute_input": "2022-04-29T22:27:49.568629Z",
     "iopub.status.busy": "2022-04-29T22:27:49.568202Z",
     "iopub.status.idle": "2022-04-29T22:27:49.574706Z",
     "shell.execute_reply": "2022-04-29T22:27:49.573858Z"
    },
    "papermill": {
     "duration": 0.066681,
     "end_time": "2022-04-29T22:27:49.577673",
     "exception": false,
     "start_time": "2022-04-29T22:27:49.510992",
     "status": "completed"
    },
    "tags": []
   },
   "outputs": [
    {
     "name": "stdout",
     "output_type": "stream",
     "text": [
      "Number of survivors:  342\n",
      "Number of dead:  549\n"
     ]
    }
   ],
   "source": [
    "print('Number of survivors: ',df.Survived.value_counts()[1])\n",
    "print('Number of dead: ',df.Survived.value_counts()[0])"
   ]
  },
  {
   "cell_type": "code",
   "execution_count": 25,
   "id": "98b47ca5",
   "metadata": {
    "execution": {
     "iopub.execute_input": "2022-04-29T22:27:49.698967Z",
     "iopub.status.busy": "2022-04-29T22:27:49.697745Z",
     "iopub.status.idle": "2022-04-29T22:27:49.809173Z",
     "shell.execute_reply": "2022-04-29T22:27:49.808438Z"
    },
    "papermill": {
     "duration": 0.173201,
     "end_time": "2022-04-29T22:27:49.811007",
     "exception": false,
     "start_time": "2022-04-29T22:27:49.637806",
     "status": "completed"
    },
    "tags": []
   },
   "outputs": [
    {
     "data": {
      "image/png": "[encoded data removed]",
      "text/plain": [
       "<Figure size 432x288 with 1 Axes>"
      ]
     },
     "metadata": {
      "needs_background": "light"
     },
     "output_type": "display_data"
    }
   ],
   "source": [
    "width = 0.4\n",
    "left = [width, width+0.7]\n",
    "height = df.Survived.value_counts().unique()\n",
    "survived_tick_label = ['Dead','Survivors']\n",
    "plt.bar(left, height, tick_label = survived_tick_label, width = 0.4, color = ['black', 'brown'])\n",
    "plt.xlabel('Survival')\n",
    "plt.ylabel('Count')\n",
    "plt.title('Number of survivors and dead')\n",
    "plt.show()"
   ]
  },
  {
   "cell_type": "code",
   "execution_count": 26,
   "id": "6dc4f988",
   "metadata": {
    "execution": {
     "iopub.execute_input": "2022-04-29T22:27:49.939698Z",
     "iopub.status.busy": "2022-04-29T22:27:49.939376Z",
     "iopub.status.idle": "2022-04-29T22:27:49.942442Z",
     "shell.execute_reply": "2022-04-29T22:27:49.941886Z"
    },
    "papermill": {
     "duration": 0.065823,
     "end_time": "2022-04-29T22:27:49.944755",
     "exception": false,
     "start_time": "2022-04-29T22:27:49.878932",
     "status": "completed"
    },
    "tags": []
   },
   "outputs": [],
   "source": [
    "# we can also use\n",
    "# sns.countplot(data=df, x='Survived', hue='Gender')"
   ]
  },
  {
   "cell_type": "markdown",
   "id": "3aa43587",
   "metadata": {
    "papermill": {
     "duration": 0.062475,
     "end_time": "2022-04-29T22:27:50.069526",
     "exception": false,
     "start_time": "2022-04-29T22:27:50.007051",
     "status": "completed"
    },
    "tags": []
   },
   "source": [
    "### What is the number of survivors and deaths of each gender?"
   ]
  },
  {
   "cell_type": "code",
   "execution_count": 27,
   "id": "e02b1c43",
   "metadata": {
    "execution": {
     "iopub.execute_input": "2022-04-29T22:27:50.198726Z",
     "iopub.status.busy": "2022-04-29T22:27:50.198378Z",
     "iopub.status.idle": "2022-04-29T22:27:50.211446Z",
     "shell.execute_reply": "2022-04-29T22:27:50.210009Z"
    },
    "papermill": {
     "duration": 0.079068,
     "end_time": "2022-04-29T22:27:50.213705",
     "exception": false,
     "start_time": "2022-04-29T22:27:50.134637",
     "status": "completed"
    },
    "tags": []
   },
   "outputs": [
    {
     "data": {
      "text/plain": [
       "Gender\n",
       "0    233\n",
       "1    109\n",
       "Name: Survived, dtype: int64"
      ]
     },
     "execution_count": 27,
     "metadata": {},
     "output_type": "execute_result"
    }
   ],
   "source": [
    "df.query(\"Survived==1\").groupby('Gender')['Survived'].count()"
   ]
  },
  {
   "cell_type": "code",
   "execution_count": 28,
   "id": "42f53e9d",
   "metadata": {
    "execution": {
     "iopub.execute_input": "2022-04-29T22:27:50.340956Z",
     "iopub.status.busy": "2022-04-29T22:27:50.340672Z",
     "iopub.status.idle": "2022-04-29T22:27:50.352460Z",
     "shell.execute_reply": "2022-04-29T22:27:50.351590Z"
    },
    "papermill": {
     "duration": 0.079084,
     "end_time": "2022-04-29T22:27:50.354248",
     "exception": false,
     "start_time": "2022-04-29T22:27:50.275164",
     "status": "completed"
    },
    "tags": []
   },
   "outputs": [
    {
     "data": {
      "text/plain": [
       "Gender\n",
       "0     81\n",
       "1    468\n",
       "Name: Survived, dtype: int64"
      ]
     },
     "execution_count": 28,
     "metadata": {},
     "output_type": "execute_result"
    }
   ],
   "source": [
    "df.query(\"Survived==0\").groupby('Gender')['Survived'].count()"
   ]
  },
  {
   "cell_type": "code",
   "execution_count": 29,
   "id": "6aea3c11",
   "metadata": {
    "execution": {
     "iopub.execute_input": "2022-04-29T22:27:50.476249Z",
     "iopub.status.busy": "2022-04-29T22:27:50.475975Z",
     "iopub.status.idle": "2022-04-29T22:27:50.600405Z",
     "shell.execute_reply": "2022-04-29T22:27:50.599880Z"
    },
    "papermill": {
     "duration": 0.187831,
     "end_time": "2022-04-29T22:27:50.602622",
     "exception": false,
     "start_time": "2022-04-29T22:27:50.414791",
     "status": "completed"
    },
    "tags": []
   },
   "outputs": [
    {
     "data": {
      "image/png": "[encoded data removed]",
      "text/plain": [
       "<Figure size 432x288 with 1 Axes>"
      ]
     },
     "metadata": {
      "needs_background": "light"
     },
     "output_type": "display_data"
    }
   ],
   "source": [
    "X = ['Survivors', 'Dead']\n",
    "female_vals = [233,81]\n",
    "male_vals = [109,468]\n",
    "  \n",
    "X_axis = np.arange(len(X))\n",
    "  \n",
    "plt.bar(X_axis - 0.2, female_vals, 0.4, label = 'Female')\n",
    "plt.bar(X_axis + 0.2, male_vals, 0.4, label = 'Male')\n",
    "  \n",
    "plt.xticks(X_axis, X)\n",
    "plt.xlabel(\"Groups\")\n",
    "plt.ylabel(\"Number of Students\")\n",
    "plt.title(\"Number of Students in each group\")\n",
    "plt.legend()\n",
    "plt.show()"
   ]
  },
  {
   "cell_type": "markdown",
   "id": "b56bc511",
   "metadata": {
    "papermill": {
     "duration": 0.094845,
     "end_time": "2022-04-29T22:27:50.791608",
     "exception": false,
     "start_time": "2022-04-29T22:27:50.696763",
     "status": "completed"
    },
    "tags": []
   },
   "source": [
    "### Other research"
   ]
  },
  {
   "cell_type": "code",
   "execution_count": 30,
   "id": "95d31656",
   "metadata": {
    "execution": {
     "iopub.execute_input": "2022-04-29T22:27:50.995281Z",
     "iopub.status.busy": "2022-04-29T22:27:50.994661Z",
     "iopub.status.idle": "2022-04-29T22:27:51.008053Z",
     "shell.execute_reply": "2022-04-29T22:27:51.007602Z"
    },
    "papermill": {
     "duration": 0.114298,
     "end_time": "2022-04-29T22:27:51.009919",
     "exception": false,
     "start_time": "2022-04-29T22:27:50.895621",
     "status": "completed"
    },
    "tags": []
   },
   "outputs": [
    {
     "data": {
      "text/html": [
       "<div>\n",
       "<style scoped>\n",
       "    .dataframe tbody tr th:only-of-type {\n",
       "        vertical-align: middle;\n",
       "    }\n",
       "\n",
       "    .dataframe tbody tr th {\n",
       "        vertical-align: top;\n",
       "    }\n",
       "\n",
       "    .dataframe thead th {\n",
       "        text-align: right;\n",
       "    }\n",
       "</style>\n",
       "<table border=\"1\" class=\"dataframe\">\n",
       "  <thead>\n",
       "    <tr style=\"text-align: right;\">\n",
       "      <th></th>\n",
       "      <th>Pclass</th>\n",
       "      <th>Age</th>\n",
       "      <th>SibSp</th>\n",
       "      <th>Parch</th>\n",
       "      <th>Fare</th>\n",
       "      <th>Gender</th>\n",
       "      <th>Embarked_C</th>\n",
       "      <th>Embarked_Q</th>\n",
       "      <th>Embarked_S</th>\n",
       "    </tr>\n",
       "    <tr>\n",
       "      <th>Survived</th>\n",
       "      <th></th>\n",
       "      <th></th>\n",
       "      <th></th>\n",
       "      <th></th>\n",
       "      <th></th>\n",
       "      <th></th>\n",
       "      <th></th>\n",
       "      <th></th>\n",
       "      <th></th>\n",
       "    </tr>\n",
       "  </thead>\n",
       "  <tbody>\n",
       "    <tr>\n",
       "      <th>0</th>\n",
       "      <td>2.531876</td>\n",
       "      <td>30.415100</td>\n",
       "      <td>0.553734</td>\n",
       "      <td>0.329690</td>\n",
       "      <td>22.117887</td>\n",
       "      <td>0.852459</td>\n",
       "      <td>0.136612</td>\n",
       "      <td>0.085610</td>\n",
       "      <td>0.777778</td>\n",
       "    </tr>\n",
       "    <tr>\n",
       "      <th>1</th>\n",
       "      <td>1.950292</td>\n",
       "      <td>28.549778</td>\n",
       "      <td>0.473684</td>\n",
       "      <td>0.464912</td>\n",
       "      <td>48.395408</td>\n",
       "      <td>0.318713</td>\n",
       "      <td>0.271930</td>\n",
       "      <td>0.087719</td>\n",
       "      <td>0.634503</td>\n",
       "    </tr>\n",
       "  </tbody>\n",
       "</table>\n",
       "</div>"
      ],
      "text/plain": [
       "            Pclass        Age     SibSp     Parch       Fare    Gender  \\\n",
       "Survived                                                                 \n",
       "0         2.531876  30.415100  0.553734  0.329690  22.117887  0.852459   \n",
       "1         1.950292  28.549778  0.473684  0.464912  48.395408  0.318713   \n",
       "\n",
       "          Embarked_C  Embarked_Q  Embarked_S  \n",
       "Survived                                      \n",
       "0           0.136612    0.085610    0.777778  \n",
       "1           0.271930    0.087719    0.634503  "
      ]
     },
     "execution_count": 30,
     "metadata": {},
     "output_type": "execute_result"
    }
   ],
   "source": [
    "df.groupby('Survived').mean()\n"
   ]
  },
  {
   "cell_type": "markdown",
   "id": "1df252b2",
   "metadata": {
    "papermill": {
     "duration": 0.093914,
     "end_time": "2022-04-29T22:27:51.198140",
     "exception": false,
     "start_time": "2022-04-29T22:27:51.104226",
     "status": "completed"
    },
    "tags": []
   },
   "source": [
    "# **Building ML Model (Logistic Regression Algorithm)**"
   ]
  },
  {
   "cell_type": "markdown",
   "id": "ce42cdbf",
   "metadata": {
    "papermill": {
     "duration": 0.096181,
     "end_time": "2022-04-29T22:27:51.389899",
     "exception": false,
     "start_time": "2022-04-29T22:27:51.293718",
     "status": "completed"
    },
    "tags": []
   },
   "source": [
    "The usual steps are:\n",
    "* Instantiate\n",
    "* Fit (on train)\n",
    "* Predict (on test)\n",
    "* Score (compare predict to test)\n"
   ]
  },
  {
   "cell_type": "code",
   "execution_count": 31,
   "id": "64ef024e",
   "metadata": {
    "execution": {
     "iopub.execute_input": "2022-04-29T22:27:51.575509Z",
     "iopub.status.busy": "2022-04-29T22:27:51.575077Z",
     "iopub.status.idle": "2022-04-29T22:27:51.579041Z",
     "shell.execute_reply": "2022-04-29T22:27:51.578587Z"
    },
    "papermill": {
     "duration": 0.099154,
     "end_time": "2022-04-29T22:27:51.581051",
     "exception": false,
     "start_time": "2022-04-29T22:27:51.481897",
     "status": "completed"
    },
    "tags": []
   },
   "outputs": [],
   "source": [
    "# Target\n",
    "y = df.Survived\n",
    "# Feathers\n",
    "x = df.drop('Survived', axis=1)"
   ]
  },
  {
   "cell_type": "code",
   "execution_count": 32,
   "id": "83728662",
   "metadata": {
    "execution": {
     "iopub.execute_input": "2022-04-29T22:27:51.769082Z",
     "iopub.status.busy": "2022-04-29T22:27:51.768650Z",
     "iopub.status.idle": "2022-04-29T22:27:51.773592Z",
     "shell.execute_reply": "2022-04-29T22:27:51.772829Z"
    },
    "papermill": {
     "duration": 0.100883,
     "end_time": "2022-04-29T22:27:51.776079",
     "exception": false,
     "start_time": "2022-04-29T22:27:51.675196",
     "status": "completed"
    },
    "tags": []
   },
   "outputs": [],
   "source": [
    "# dividing data into training and test data.\n",
    "X_train, X_test, y_train, y_test = train_test_split(x, y, test_size=0.15, random_state=40)"
   ]
  },
  {
   "cell_type": "code",
   "execution_count": 33,
   "id": "92fa7e94",
   "metadata": {
    "execution": {
     "iopub.execute_input": "2022-04-29T22:27:51.947318Z",
     "iopub.status.busy": "2022-04-29T22:27:51.946583Z",
     "iopub.status.idle": "2022-04-29T22:27:52.048095Z",
     "shell.execute_reply": "2022-04-29T22:27:52.046856Z"
    },
    "papermill": {
     "duration": 0.180376,
     "end_time": "2022-04-29T22:27:52.050433",
     "exception": false,
     "start_time": "2022-04-29T22:27:51.870057",
     "status": "completed"
    },
    "tags": []
   },
   "outputs": [],
   "source": [
    "# use sklearn Logistic Regression to fit a logistic model\n",
    "# logistic model\n",
    "log_mod = LogisticRegression(max_iter=5000)\n",
    "# fit logistic model using train data\n",
    "log_mod.fit(X_train, y_train)\n",
    "# predict y based on x\n",
    "preds = log_mod.predict(X_test)"
   ]
  },
  {
   "cell_type": "code",
   "execution_count": 34,
   "id": "123b053e",
   "metadata": {
    "execution": {
     "iopub.execute_input": "2022-04-29T22:27:52.174014Z",
     "iopub.status.busy": "2022-04-29T22:27:52.173708Z",
     "iopub.status.idle": "2022-04-29T22:27:52.179747Z",
     "shell.execute_reply": "2022-04-29T22:27:52.178804Z"
    },
    "papermill": {
     "duration": 0.069883,
     "end_time": "2022-04-29T22:27:52.181380",
     "exception": false,
     "start_time": "2022-04-29T22:27:52.111497",
     "status": "completed"
    },
    "tags": []
   },
   "outputs": [
    {
     "data": {
      "text/plain": [
       "array([1, 0, 1, 0, 1, 0, 0, 0, 0, 1, 1, 0, 0, 0, 1, 1, 1, 1, 0, 0, 1, 1,\n",
       "       1, 1, 1, 1, 0, 0, 0, 0, 1, 0, 0, 0, 0, 1, 0, 0, 0, 1, 0, 0, 0, 1,\n",
       "       1, 0, 0, 0, 0, 0, 1, 0, 1, 1, 0, 1, 0, 1, 1, 0, 0, 0, 0, 1, 0, 0,\n",
       "       1, 1, 0, 1, 1, 1, 0, 0, 0, 0, 0, 1, 0, 1, 1, 1, 1, 0, 1, 1, 0, 1,\n",
       "       1, 1, 0, 1, 0, 0, 0, 1, 0, 0, 0, 1, 0, 0, 1, 0, 1, 0, 0, 1, 0, 0,\n",
       "       0, 0, 0, 0, 0, 0, 1, 0, 0, 1, 0, 0, 1, 1, 1, 1, 0, 0, 1, 1, 1, 1,\n",
       "       1, 0])"
      ]
     },
     "execution_count": 34,
     "metadata": {},
     "output_type": "execute_result"
    }
   ],
   "source": [
    "# our prediction\n",
    "preds"
   ]
  },
  {
   "cell_type": "code",
   "execution_count": 35,
   "id": "c404e300",
   "metadata": {
    "execution": {
     "iopub.execute_input": "2022-04-29T22:27:52.308194Z",
     "iopub.status.busy": "2022-04-29T22:27:52.307303Z",
     "iopub.status.idle": "2022-04-29T22:27:52.313051Z",
     "shell.execute_reply": "2022-04-29T22:27:52.312288Z"
    },
    "papermill": {
     "duration": 0.072204,
     "end_time": "2022-04-29T22:27:52.314972",
     "exception": false,
     "start_time": "2022-04-29T22:27:52.242768",
     "status": "completed"
    },
    "tags": []
   },
   "outputs": [
    {
     "data": {
      "text/plain": [
       "array([0, 0, 1, 0, 0, 0, 1, 1, 0, 1, 1, 1, 0, 0, 0, 0, 0, 0, 0, 0, 0, 1,\n",
       "       1, 1, 1, 1, 0, 0, 0, 0, 1, 0, 0, 0, 0, 1, 0, 0, 0, 1, 1, 0, 0, 1,\n",
       "       1, 0, 0, 0, 1, 0, 1, 0, 1, 1, 0, 1, 0, 1, 1, 0, 0, 0, 0, 1, 0, 0,\n",
       "       1, 1, 1, 1, 1, 1, 0, 0, 0, 0, 0, 1, 0, 0, 1, 1, 1, 0, 1, 1, 1, 1,\n",
       "       1, 1, 0, 1, 0, 0, 0, 1, 0, 0, 0, 1, 0, 0, 1, 0, 0, 0, 0, 1, 0, 0,\n",
       "       0, 1, 1, 1, 0, 0, 1, 1, 0, 1, 0, 0, 0, 1, 1, 1, 0, 0, 1, 1, 1, 1,\n",
       "       1, 0])"
      ]
     },
     "execution_count": 35,
     "metadata": {},
     "output_type": "execute_result"
    }
   ],
   "source": [
    "# real values that we're trying to predict\n",
    "y_test.values"
   ]
  },
  {
   "cell_type": "markdown",
   "id": "c6cc9f69",
   "metadata": {
    "papermill": {
     "duration": 0.091127,
     "end_time": "2022-04-29T22:27:52.498875",
     "exception": false,
     "start_time": "2022-04-29T22:27:52.407748",
     "status": "completed"
    },
    "tags": []
   },
   "source": [
    "model evaluation"
   ]
  },
  {
   "cell_type": "code",
   "execution_count": 36,
   "id": "c2862f6d",
   "metadata": {
    "execution": {
     "iopub.execute_input": "2022-04-29T22:27:52.699101Z",
     "iopub.status.busy": "2022-04-29T22:27:52.698565Z",
     "iopub.status.idle": "2022-04-29T22:27:52.710109Z",
     "shell.execute_reply": "2022-04-29T22:27:52.709599Z"
    },
    "papermill": {
     "duration": 0.113525,
     "end_time": "2022-04-29T22:27:52.712118",
     "exception": false,
     "start_time": "2022-04-29T22:27:52.598593",
     "status": "completed"
    },
    "tags": []
   },
   "outputs": [
    {
     "data": {
      "text/plain": [
       "array([[64, 10],\n",
       "       [11, 49]])"
      ]
     },
     "execution_count": 36,
     "metadata": {},
     "output_type": "execute_result"
    }
   ],
   "source": [
    "confusion_matrix(y_test, preds)"
   ]
  },
  {
   "cell_type": "code",
   "execution_count": 37,
   "id": "d572fe6a",
   "metadata": {
    "execution": {
     "iopub.execute_input": "2022-04-29T22:27:52.910118Z",
     "iopub.status.busy": "2022-04-29T22:27:52.909401Z",
     "iopub.status.idle": "2022-04-29T22:27:52.920083Z",
     "shell.execute_reply": "2022-04-29T22:27:52.919584Z"
    },
    "papermill": {
     "duration": 0.110702,
     "end_time": "2022-04-29T22:27:52.922436",
     "exception": false,
     "start_time": "2022-04-29T22:27:52.811734",
     "status": "completed"
    },
    "tags": []
   },
   "outputs": [
    {
     "name": "stdout",
     "output_type": "stream",
     "text": [
      "              precision    recall  f1-score   support\n",
      "\n",
      "           0       0.85      0.86      0.86        74\n",
      "           1       0.83      0.82      0.82        60\n",
      "\n",
      "    accuracy                           0.84       134\n",
      "   macro avg       0.84      0.84      0.84       134\n",
      "weighted avg       0.84      0.84      0.84       134\n",
      "\n"
     ]
    }
   ],
   "source": [
    "print(classification_report(y_test, preds))"
   ]
  },
  {
   "cell_type": "markdown",
   "id": "e694c184",
   "metadata": {
    "papermill": {
     "duration": 0.092055,
     "end_time": "2022-04-29T22:27:53.107450",
     "exception": false,
     "start_time": "2022-04-29T22:27:53.015395",
     "status": "completed"
    },
    "tags": []
   },
   "source": [
    "### Now we are trying to predict y based on the data provided and required for submission."
   ]
  },
  {
   "cell_type": "code",
   "execution_count": 38,
   "id": "27e42450",
   "metadata": {
    "execution": {
     "iopub.execute_input": "2022-04-29T22:27:53.293557Z",
     "iopub.status.busy": "2022-04-29T22:27:53.293156Z",
     "iopub.status.idle": "2022-04-29T22:27:53.302456Z",
     "shell.execute_reply": "2022-04-29T22:27:53.301621Z"
    },
    "papermill": {
     "duration": 0.106633,
     "end_time": "2022-04-29T22:27:53.304751",
     "exception": false,
     "start_time": "2022-04-29T22:27:53.198118",
     "status": "completed"
    },
    "tags": []
   },
   "outputs": [
    {
     "data": {
      "text/plain": [
       "Pclass        0\n",
       "Age           0\n",
       "SibSp         0\n",
       "Parch         0\n",
       "Fare          1\n",
       "Gender        0\n",
       "Embarked_C    0\n",
       "Embarked_Q    0\n",
       "Embarked_S    0\n",
       "dtype: int64"
      ]
     },
     "execution_count": 38,
     "metadata": {},
     "output_type": "execute_result"
    }
   ],
   "source": [
    "test_df.isnull().sum()"
   ]
  },
  {
   "cell_type": "code",
   "execution_count": 39,
   "id": "f7d3b7c4",
   "metadata": {
    "execution": {
     "iopub.execute_input": "2022-04-29T22:27:53.499411Z",
     "iopub.status.busy": "2022-04-29T22:27:53.498915Z",
     "iopub.status.idle": "2022-04-29T22:27:53.506134Z",
     "shell.execute_reply": "2022-04-29T22:27:53.505211Z"
    },
    "papermill": {
     "duration": 0.105949,
     "end_time": "2022-04-29T22:27:53.508129",
     "exception": false,
     "start_time": "2022-04-29T22:27:53.402180",
     "status": "completed"
    },
    "tags": []
   },
   "outputs": [],
   "source": [
    "test_df.Fare.fillna(df.Fare.mean(), inplace = True)"
   ]
  },
  {
   "cell_type": "code",
   "execution_count": 40,
   "id": "487f0a2e",
   "metadata": {
    "execution": {
     "iopub.execute_input": "2022-04-29T22:27:53.699800Z",
     "iopub.status.busy": "2022-04-29T22:27:53.699219Z",
     "iopub.status.idle": "2022-04-29T22:27:53.706884Z",
     "shell.execute_reply": "2022-04-29T22:27:53.706388Z"
    },
    "papermill": {
     "duration": 0.106227,
     "end_time": "2022-04-29T22:27:53.708823",
     "exception": false,
     "start_time": "2022-04-29T22:27:53.602596",
     "status": "completed"
    },
    "tags": []
   },
   "outputs": [
    {
     "data": {
      "text/plain": [
       "array([0, 0, 1, 1, 0, 0, 0, 0, 1, 1, 1, 1, 0, 0, 1, 1, 0, 0, 1, 1, 0, 0,\n",
       "       1, 1, 1, 0, 1, 0, 1, 0, 0, 1, 1, 0, 1, 0, 0, 0, 1, 1, 0, 1, 0, 1,\n",
       "       1, 0, 0, 1, 0, 0, 0, 0, 1, 1, 0, 0, 1, 0, 1, 0, 0, 1, 0, 0, 1, 0,\n",
       "       1, 0, 1, 0, 0, 1, 0, 1, 0, 0, 0, 0, 0, 1, 0, 0, 1, 0, 1, 1, 0, 0,\n",
       "       1, 0, 0, 0, 0, 0, 1, 0, 0, 0, 1, 0, 1, 0, 0, 0, 0, 0, 1, 0, 0, 1,\n",
       "       0, 1, 0, 1, 1, 0, 0, 0, 1, 1, 0, 0, 0, 1, 0, 0, 0, 0, 1, 0, 0, 0,\n",
       "       0, 1, 0, 0, 1, 0, 0, 0, 0, 1, 1, 0, 0, 0, 0, 1, 0, 0, 1, 1, 0, 0,\n",
       "       0, 0, 1, 0, 0, 0, 0, 1, 0, 0, 0, 0, 1, 1, 0, 0, 0, 0, 1, 0, 0, 0,\n",
       "       0, 1, 0, 0, 1, 0, 1, 0, 1, 0, 1, 0, 0, 0, 1, 0, 1, 0, 1, 1, 1, 0,\n",
       "       1, 1, 0, 0, 0, 0, 0, 1, 0, 0, 1, 0, 0, 1, 0, 0, 0, 1, 1, 0, 1, 0,\n",
       "       0, 0, 0, 0, 0, 0, 0, 0, 0, 1, 1, 1, 0, 1, 0, 1, 0, 1, 0, 0, 1, 1,\n",
       "       0, 0, 0, 0, 1, 1, 0, 0, 0, 1, 0, 0, 1, 1, 1, 1, 1, 1, 0, 0, 0, 0,\n",
       "       1, 0, 0, 0, 1, 1, 0, 0, 1, 0, 1, 1, 1, 0, 0, 1, 0, 0, 0, 0, 0, 0,\n",
       "       0, 0, 0, 1, 1, 1, 0, 1, 0, 0, 0, 0, 0, 1, 1, 0, 0, 1, 0, 0, 1, 1,\n",
       "       0, 0, 1, 1, 1, 0, 0, 1, 1, 0, 1, 1, 0, 0, 1, 1, 0, 1, 0, 1, 1, 1,\n",
       "       1, 0, 0, 0, 1, 0, 0, 1, 0, 0, 0, 1, 0, 0, 0, 1, 1, 0, 0, 0, 0, 0,\n",
       "       0, 0, 0, 0, 1, 1, 1, 1, 0, 0, 1, 0, 1, 0, 1, 1, 1, 1, 0, 0, 0, 0,\n",
       "       1, 1, 1, 0, 0, 0, 1, 1, 0, 1, 0, 0, 0, 1, 0, 1, 1, 0, 0, 1, 0, 1,\n",
       "       1, 0, 0, 1, 0, 0, 1, 1, 1, 0, 0, 0, 0, 1, 0, 0, 1, 0, 0, 0, 1, 0])"
      ]
     },
     "execution_count": 40,
     "metadata": {},
     "output_type": "execute_result"
    }
   ],
   "source": [
    "subm_preds = log_mod.predict(test_df)\n",
    "subm_preds"
   ]
  },
  {
   "cell_type": "code",
   "execution_count": 41,
   "id": "a11de296",
   "metadata": {
    "execution": {
     "iopub.execute_input": "2022-04-29T22:27:53.902621Z",
     "iopub.status.busy": "2022-04-29T22:27:53.901686Z",
     "iopub.status.idle": "2022-04-29T22:27:53.909235Z",
     "shell.execute_reply": "2022-04-29T22:27:53.908396Z"
    },
    "papermill": {
     "duration": 0.107335,
     "end_time": "2022-04-29T22:27:53.911034",
     "exception": false,
     "start_time": "2022-04-29T22:27:53.803699",
     "status": "completed"
    },
    "tags": []
   },
   "outputs": [
    {
     "data": {
      "text/plain": [
       "0       892\n",
       "1       893\n",
       "2       894\n",
       "3       895\n",
       "4       896\n",
       "       ... \n",
       "413    1305\n",
       "414    1306\n",
       "415    1307\n",
       "416    1308\n",
       "417    1309\n",
       "Name: PassengerId, Length: 418, dtype: int64"
      ]
     },
     "execution_count": 41,
     "metadata": {},
     "output_type": "execute_result"
    }
   ],
   "source": [
    "test_df_passenger_id"
   ]
  },
  {
   "cell_type": "code",
   "execution_count": 42,
   "id": "e61ebd12",
   "metadata": {
    "execution": {
     "iopub.execute_input": "2022-04-29T22:27:54.106573Z",
     "iopub.status.busy": "2022-04-29T22:27:54.106280Z",
     "iopub.status.idle": "2022-04-29T22:27:54.110331Z",
     "shell.execute_reply": "2022-04-29T22:27:54.109559Z"
    },
    "papermill": {
     "duration": 0.105712,
     "end_time": "2022-04-29T22:27:54.112373",
     "exception": false,
     "start_time": "2022-04-29T22:27:54.006661",
     "status": "completed"
    },
    "tags": []
   },
   "outputs": [],
   "source": [
    "submission = pd.DataFrame({\n",
    "        \"PassengerId\": test_df_passenger_id,\n",
    "        \"Survived\": subm_preds})"
   ]
  },
  {
   "cell_type": "code",
   "execution_count": 43,
   "id": "e9c03688",
   "metadata": {
    "execution": {
     "iopub.execute_input": "2022-04-29T22:27:54.312664Z",
     "iopub.status.busy": "2022-04-29T22:27:54.312384Z",
     "iopub.status.idle": "2022-04-29T22:27:54.320909Z",
     "shell.execute_reply": "2022-04-29T22:27:54.320083Z"
    },
    "papermill": {
     "duration": 0.11076,
     "end_time": "2022-04-29T22:27:54.322901",
     "exception": false,
     "start_time": "2022-04-29T22:27:54.212141",
     "status": "completed"
    },
    "tags": []
   },
   "outputs": [
    {
     "data": {
      "text/html": [
       "<div>\n",
       "<style scoped>\n",
       "    .dataframe tbody tr th:only-of-type {\n",
       "        vertical-align: middle;\n",
       "    }\n",
       "\n",
       "    .dataframe tbody tr th {\n",
       "        vertical-align: top;\n",
       "    }\n",
       "\n",
       "    .dataframe thead th {\n",
       "        text-align: right;\n",
       "    }\n",
       "</style>\n",
       "<table border=\"1\" class=\"dataframe\">\n",
       "  <thead>\n",
       "    <tr style=\"text-align: right;\">\n",
       "      <th></th>\n",
       "      <th>PassengerId</th>\n",
       "      <th>Survived</th>\n",
       "    </tr>\n",
       "  </thead>\n",
       "  <tbody>\n",
       "    <tr>\n",
       "      <th>0</th>\n",
       "      <td>892</td>\n",
       "      <td>0</td>\n",
       "    </tr>\n",
       "    <tr>\n",
       "      <th>1</th>\n",
       "      <td>893</td>\n",
       "      <td>0</td>\n",
       "    </tr>\n",
       "    <tr>\n",
       "      <th>2</th>\n",
       "      <td>894</td>\n",
       "      <td>1</td>\n",
       "    </tr>\n",
       "    <tr>\n",
       "      <th>3</th>\n",
       "      <td>895</td>\n",
       "      <td>1</td>\n",
       "    </tr>\n",
       "    <tr>\n",
       "      <th>4</th>\n",
       "      <td>896</td>\n",
       "      <td>0</td>\n",
       "    </tr>\n",
       "    <tr>\n",
       "      <th>...</th>\n",
       "      <td>...</td>\n",
       "      <td>...</td>\n",
       "    </tr>\n",
       "    <tr>\n",
       "      <th>413</th>\n",
       "      <td>1305</td>\n",
       "      <td>0</td>\n",
       "    </tr>\n",
       "    <tr>\n",
       "      <th>414</th>\n",
       "      <td>1306</td>\n",
       "      <td>0</td>\n",
       "    </tr>\n",
       "    <tr>\n",
       "      <th>415</th>\n",
       "      <td>1307</td>\n",
       "      <td>0</td>\n",
       "    </tr>\n",
       "    <tr>\n",
       "      <th>416</th>\n",
       "      <td>1308</td>\n",
       "      <td>1</td>\n",
       "    </tr>\n",
       "    <tr>\n",
       "      <th>417</th>\n",
       "      <td>1309</td>\n",
       "      <td>0</td>\n",
       "    </tr>\n",
       "  </tbody>\n",
       "</table>\n",
       "<p>418 rows × 2 columns</p>\n",
       "</div>"
      ],
      "text/plain": [
       "     PassengerId  Survived\n",
       "0            892         0\n",
       "1            893         0\n",
       "2            894         1\n",
       "3            895         1\n",
       "4            896         0\n",
       "..           ...       ...\n",
       "413         1305         0\n",
       "414         1306         0\n",
       "415         1307         0\n",
       "416         1308         1\n",
       "417         1309         0\n",
       "\n",
       "[418 rows x 2 columns]"
      ]
     },
     "execution_count": 43,
     "metadata": {},
     "output_type": "execute_result"
    }
   ],
   "source": [
    "submission"
   ]
  },
  {
   "cell_type": "code",
   "execution_count": 44,
   "id": "a967165b",
   "metadata": {
    "execution": {
     "iopub.execute_input": "2022-04-29T22:27:54.526445Z",
     "iopub.status.busy": "2022-04-29T22:27:54.525955Z",
     "iopub.status.idle": "2022-04-29T22:27:54.534749Z",
     "shell.execute_reply": "2022-04-29T22:27:54.533622Z"
    },
    "papermill": {
     "duration": 0.115221,
     "end_time": "2022-04-29T22:27:54.537525",
     "exception": false,
     "start_time": "2022-04-29T22:27:54.422304",
     "status": "completed"
    },
    "tags": []
   },
   "outputs": [],
   "source": [
    "submission.to_csv('submission.csv', index=False)"
   ]
  },
  {
   "cell_type": "markdown",
   "id": "063ad1d2",
   "metadata": {
    "papermill": {
     "duration": 0.09712,
     "end_time": "2022-04-29T22:27:54.732601",
     "exception": false,
     "start_time": "2022-04-29T22:27:54.635481",
     "status": "completed"
    },
    "tags": []
   },
   "source": [
    "<h1 style=\"text-align: center;\" class=\"list-group-item list-group-item-action active\">Table of Contents</h1>"
   ]
  }
 ],
 "metadata": {
  "kernelspec": {
   "display_name": "Python 3",
   "language": "python",
   "name": "python3"
  },
  "language_info": {
   "codemirror_mode": {
    "name": "ipython",
    "version": 3
   },
   "file_extension": ".py",
   "mimetype": "text/x-python",
   "name": "python",
   "nbconvert_exporter": "python",
   "pygments_lexer": "ipython3",
   "version": "3.7.12"
  },
  "papermill": {
   "default_parameters": {},
   "duration": 25.465158,
   "end_time": "2022-04-29T22:27:55.648926",
   "environment_variables": {},
   "exception": null,
   "input_path": "__notebook__.ipynb",
   "output_path": "__notebook__.ipynb",
   "parameters": {},
   "start_time": "2022-04-29T22:27:30.183768",
   "version": "2.3.4"
  }
 },
 "nbformat": 4,
 "nbformat_minor": 5
}
